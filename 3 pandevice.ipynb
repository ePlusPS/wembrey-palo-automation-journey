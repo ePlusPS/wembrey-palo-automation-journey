{
 "cells": [
  {
   "cell_type": "code",
   "execution_count": 1,
   "metadata": {},
   "outputs": [
    {
     "name": "stdout",
     "output_type": "stream",
     "text": [
      "Hello world\n"
     ]
    }
   ],
   "source": [
    "print(f'Hello world')"
   ]
  },
  {
   "cell_type": "code",
   "execution_count": 2,
   "metadata": {},
   "outputs": [],
   "source": [
    "import pandevice\n",
    "from pandevice import firewall\n"
   ]
  },
  {
   "cell_type": "code",
   "execution_count": 3,
   "metadata": {
    "scrolled": true
   },
   "outputs": [
    {
     "data": {
      "text/plain": [
       "['Decimal',\n",
       " 'ENTRY',\n",
       " 'ET',\n",
       " 'Firewall',\n",
       " 'FirewallState',\n",
       " 'PanDevice',\n",
       " 'Root',\n",
       " 'Var',\n",
       " '__builtins__',\n",
       " '__cached__',\n",
       " '__doc__',\n",
       " '__file__',\n",
       " '__loader__',\n",
       " '__name__',\n",
       " '__package__',\n",
       " '__spec__',\n",
       " 'device',\n",
       " 'err',\n",
       " 'getlogger',\n",
       " 'itertools',\n",
       " 'logger',\n",
       " 'logging',\n",
       " 're',\n",
       " 'yesno']"
      ]
     },
     "execution_count": 3,
     "metadata": {},
     "output_type": "execute_result"
    }
   ],
   "source": [
    "dir(firewall)"
   ]
  },
  {
   "cell_type": "code",
   "execution_count": 4,
   "metadata": {
    "scrolled": true
   },
   "outputs": [],
   "source": [
    "import getpass"
   ]
  },
  {
   "cell_type": "code",
   "execution_count": 5,
   "metadata": {},
   "outputs": [
    {
     "name": "stdout",
     "output_type": "stream",
     "text": [
      "Password:········\n",
      "username:admin\n",
      "hostname:10.35.20.250\n"
     ]
    }
   ],
   "source": [
    "password = getpass.getpass('Password:')\n",
    "username = input('username:')\n",
    "hostname = input('hostname:')"
   ]
  },
  {
   "cell_type": "code",
   "execution_count": 6,
   "metadata": {},
   "outputs": [],
   "source": [
    "fw = pandevice.firewall.Firewall(hostname, username, password)\n"
   ]
  },
  {
   "cell_type": "code",
   "execution_count": 7,
   "metadata": {},
   "outputs": [
    {
     "data": {
      "text/plain": [
       "<Firewall '10.35.20.250' None at 0x1ccf21b37f0>"
      ]
     },
     "execution_count": 7,
     "metadata": {},
     "output_type": "execute_result"
    }
   ],
   "source": [
    "fw"
   ]
  },
  {
   "cell_type": "code",
   "execution_count": 8,
   "metadata": {},
   "outputs": [
    {
     "data": {
      "text/plain": [
       "['CHILDMETHODS',\n",
       " 'CHILDTYPES',\n",
       " 'DEFAULT_VSYS',\n",
       " 'HA_SYNC',\n",
       " 'NAME',\n",
       " 'ROOT',\n",
       " 'SUFFIX',\n",
       " 'XPATH',\n",
       " 'XapiWrapper',\n",
       " '__class__',\n",
       " '__delattr__',\n",
       " '__dict__',\n",
       " '__dir__',\n",
       " '__doc__',\n",
       " '__eq__',\n",
       " '__format__',\n",
       " '__ge__',\n",
       " '__getattribute__',\n",
       " '__gt__',\n",
       " '__hash__',\n",
       " '__init__',\n",
       " '__init_subclass__',\n",
       " '__le__',\n",
       " '__lt__',\n",
       " '__module__',\n",
       " '__ne__',\n",
       " '__new__',\n",
       " '__reduce__',\n",
       " '__reduce_ex__',\n",
       " '__repr__',\n",
       " '__setattr__',\n",
       " '__sizeof__',\n",
       " '__str__',\n",
       " '__subclasshook__',\n",
       " '__weakref__',\n",
       " '_about_object',\n",
       " '_about_parameter',\n",
       " '_api_key',\n",
       " '_api_password',\n",
       " '_api_username',\n",
       " '_build_xpath',\n",
       " '_check_child_methods',\n",
       " '_commit',\n",
       " '_convert_var',\n",
       " '_dot',\n",
       " '_format_result_as_license_list',\n",
       " '_gather_bulk_info',\n",
       " '_get_param_specific_info',\n",
       " '_ha_active',\n",
       " '_ha_peer',\n",
       " '_logger',\n",
       " '_merge_elements',\n",
       " '_nearest_pandevice',\n",
       " '_parse_job_results',\n",
       " '_parse_xml',\n",
       " '_perform_vsys_dict_import_delete',\n",
       " '_perform_vsys_dict_import_set',\n",
       " '_refresh_children',\n",
       " '_refresh_xml',\n",
       " '_requires_import_consideration',\n",
       " '_retrieve_api_key',\n",
       " '_root_element',\n",
       " '_root_xpath_vsys',\n",
       " '_save_system_info',\n",
       " '_set_reference',\n",
       " '_set_version_and_version_info',\n",
       " '_subelements',\n",
       " '_version_info',\n",
       " '_vsys',\n",
       " '_xapi_private',\n",
       " 'about',\n",
       " 'activate',\n",
       " 'activate_feature_using_authorization_code',\n",
       " 'active',\n",
       " 'add',\n",
       " 'add_commit_lock',\n",
       " 'add_config_lock',\n",
       " 'api_key',\n",
       " 'apply',\n",
       " 'apply_similar',\n",
       " 'check_commit_locks',\n",
       " 'check_config_locks',\n",
       " 'children',\n",
       " 'commit',\n",
       " 'commit_device_and_network',\n",
       " 'commit_locked',\n",
       " 'commit_policy_and_objects',\n",
       " 'config_changed',\n",
       " 'config_locked',\n",
       " 'config_sync_state',\n",
       " 'config_synced',\n",
       " 'content',\n",
       " 'content_version',\n",
       " 'create',\n",
       " 'create_from_device',\n",
       " 'create_similar',\n",
       " 'create_vsys',\n",
       " 'delete',\n",
       " 'delete_similar',\n",
       " 'delete_vsys',\n",
       " 'devicegroup',\n",
       " 'devices',\n",
       " 'dot',\n",
       " 'element',\n",
       " 'element_str',\n",
       " 'equal',\n",
       " 'extend',\n",
       " 'fetch_licenses_from_license_server',\n",
       " 'find',\n",
       " 'find_index',\n",
       " 'find_or_create',\n",
       " 'findall',\n",
       " 'findall_or_create',\n",
       " 'fulltree',\n",
       " 'generate_xapi',\n",
       " 'get_device_version',\n",
       " 'ha_failed',\n",
       " 'ha_pair',\n",
       " 'ha_peer',\n",
       " 'hostname',\n",
       " 'id',\n",
       " 'insert',\n",
       " 'interval',\n",
       " 'is_active',\n",
       " 'is_virtual',\n",
       " 'lock_before_change',\n",
       " 'management_ip',\n",
       " 'map_ha',\n",
       " 'move',\n",
       " 'multi_vsys',\n",
       " 'nearest_pandevice',\n",
       " 'op',\n",
       " 'organize_into_vsys',\n",
       " 'panorama',\n",
       " 'parent',\n",
       " 'passive',\n",
       " 'pending_changes',\n",
       " 'platform',\n",
       " 'pop',\n",
       " 'port',\n",
       " 'predefined',\n",
       " 'refresh',\n",
       " 'refresh_ha_active',\n",
       " 'refresh_system_info',\n",
       " 'refresh_variable',\n",
       " 'refresh_version',\n",
       " 'refreshall',\n",
       " 'refreshall_from_xml',\n",
       " 'remove',\n",
       " 'remove_all_locks',\n",
       " 'remove_by_name',\n",
       " 'remove_commit_lock',\n",
       " 'remove_config_lock',\n",
       " 'removeall',\n",
       " 'request_license_info',\n",
       " 'request_password_hash',\n",
       " 'restart',\n",
       " 'revert_to_running_configuration',\n",
       " 'serial',\n",
       " 'serial_ha_peer',\n",
       " 'set_config_changed',\n",
       " 'set_dns_servers',\n",
       " 'set_failed',\n",
       " 'set_ha_peers',\n",
       " 'set_hostname',\n",
       " 'set_ntp_servers',\n",
       " 'shared',\n",
       " 'shared_lock_before_change',\n",
       " 'show_highavailability_state',\n",
       " 'show_system_info',\n",
       " 'show_system_resources',\n",
       " 'software',\n",
       " 'state',\n",
       " 'synchronize_config',\n",
       " 'syncjob',\n",
       " 'syncreboot',\n",
       " 'test_security_policy_match',\n",
       " 'timeout',\n",
       " 'toggle_ha_active',\n",
       " 'tree',\n",
       " 'uid',\n",
       " 'update',\n",
       " 'update_connection_method',\n",
       " 'update_ha_active',\n",
       " 'userid',\n",
       " 'variables',\n",
       " 'version',\n",
       " 'vsys',\n",
       " 'vsys_name',\n",
       " 'watch_op',\n",
       " 'xapi',\n",
       " 'xml_merge',\n",
       " 'xpath',\n",
       " 'xpath_device',\n",
       " 'xpath_mgtconfig',\n",
       " 'xpath_nosuffix',\n",
       " 'xpath_panorama',\n",
       " 'xpath_root',\n",
       " 'xpath_short',\n",
       " 'xpath_vsys']"
      ]
     },
     "execution_count": 8,
     "metadata": {},
     "output_type": "execute_result"
    }
   ],
   "source": [
    "dir(fw)"
   ]
  },
  {
   "cell_type": "code",
   "execution_count": 9,
   "metadata": {},
   "outputs": [
    {
     "data": {
      "text/plain": [
       "'10.35.20.250'"
      ]
     },
     "execution_count": 9,
     "metadata": {},
     "output_type": "execute_result"
    }
   ],
   "source": [
    "fw.hostname"
   ]
  },
  {
   "cell_type": "code",
   "execution_count": 10,
   "metadata": {},
   "outputs": [
    {
     "ename": "KeyError",
     "evalue": "'multi-vsys'",
     "output_type": "error",
     "traceback": [
      "\u001b[1;31m---------------------------------------------------------------------------\u001b[0m",
      "\u001b[1;31mKeyError\u001b[0m                                  Traceback (most recent call last)",
      "\u001b[1;32m<ipython-input-10-260ee9076d6e>\u001b[0m in \u001b[0;36m<module>\u001b[1;34m\u001b[0m\n\u001b[1;32m----> 1\u001b[1;33m \u001b[0msysinf\u001b[0m \u001b[1;33m=\u001b[0m \u001b[0mfw\u001b[0m\u001b[1;33m.\u001b[0m\u001b[0mrefresh_system_info\u001b[0m\u001b[1;33m(\u001b[0m\u001b[1;33m)\u001b[0m\u001b[1;33m\u001b[0m\u001b[1;33m\u001b[0m\u001b[0m\n\u001b[0m",
      "\u001b[1;32mc:\\users\\wembrey\\appdata\\local\\programs\\python\\python37\\lib\\site-packages\\pandevice\\base.py\u001b[0m in \u001b[0;36mrefresh_system_info\u001b[1;34m(self)\u001b[0m\n\u001b[0;32m   3696\u001b[0m \u001b[1;33m\u001b[0m\u001b[0m\n\u001b[0;32m   3697\u001b[0m         \u001b[1;31m# Save the system info to this object\u001b[0m\u001b[1;33m\u001b[0m\u001b[1;33m\u001b[0m\u001b[1;33m\u001b[0m\u001b[0m\n\u001b[1;32m-> 3698\u001b[1;33m         \u001b[0mself\u001b[0m\u001b[1;33m.\u001b[0m\u001b[0m_save_system_info\u001b[0m\u001b[1;33m(\u001b[0m\u001b[0msystem_info\u001b[0m\u001b[1;33m)\u001b[0m\u001b[1;33m\u001b[0m\u001b[1;33m\u001b[0m\u001b[0m\n\u001b[0m\u001b[0;32m   3699\u001b[0m \u001b[1;33m\u001b[0m\u001b[0m\n\u001b[0;32m   3700\u001b[0m         \u001b[1;31m# Return the important fields as a namedtuple\u001b[0m\u001b[1;33m\u001b[0m\u001b[1;33m\u001b[0m\u001b[1;33m\u001b[0m\u001b[0m\n",
      "\u001b[1;32mc:\\users\\wembrey\\appdata\\local\\programs\\python\\python37\\lib\\site-packages\\pandevice\\firewall.py\u001b[0m in \u001b[0;36m_save_system_info\u001b[1;34m(self, system_info)\u001b[0m\n\u001b[0;32m    212\u001b[0m         \"\"\"\n\u001b[0;32m    213\u001b[0m         \u001b[0msuper\u001b[0m\u001b[1;33m(\u001b[0m\u001b[0mFirewall\u001b[0m\u001b[1;33m,\u001b[0m \u001b[0mself\u001b[0m\u001b[1;33m)\u001b[0m\u001b[1;33m.\u001b[0m\u001b[0m_save_system_info\u001b[0m\u001b[1;33m(\u001b[0m\u001b[0msystem_info\u001b[0m\u001b[1;33m)\u001b[0m\u001b[1;33m\u001b[0m\u001b[1;33m\u001b[0m\u001b[0m\n\u001b[1;32m--> 214\u001b[1;33m         \u001b[0mself\u001b[0m\u001b[1;33m.\u001b[0m\u001b[0mmulti_vsys\u001b[0m \u001b[1;33m=\u001b[0m \u001b[0msystem_info\u001b[0m\u001b[1;33m[\u001b[0m\u001b[1;34m'system'\u001b[0m\u001b[1;33m]\u001b[0m\u001b[1;33m[\u001b[0m\u001b[1;34m'multi-vsys'\u001b[0m\u001b[1;33m]\u001b[0m \u001b[1;33m==\u001b[0m \u001b[1;34m'on'\u001b[0m\u001b[1;33m\u001b[0m\u001b[1;33m\u001b[0m\u001b[0m\n\u001b[0m\u001b[0;32m    215\u001b[0m \u001b[1;33m\u001b[0m\u001b[0m\n\u001b[0;32m    216\u001b[0m     \u001b[1;32mdef\u001b[0m \u001b[0melement\u001b[0m\u001b[1;33m(\u001b[0m\u001b[0mself\u001b[0m\u001b[1;33m)\u001b[0m\u001b[1;33m:\u001b[0m\u001b[1;33m\u001b[0m\u001b[1;33m\u001b[0m\u001b[0m\n",
      "\u001b[1;31mKeyError\u001b[0m: 'multi-vsys'"
     ]
    }
   ],
   "source": [
    "sysinf = fw.refresh_system_info()"
   ]
  },
  {
   "cell_type": "code",
   "execution_count": null,
   "metadata": {},
   "outputs": [],
   "source": [
    "print(f'Updated system info from {fw.hostname} is : {sysinf}')"
   ]
  },
  {
   "cell_type": "code",
   "execution_count": null,
   "metadata": {},
   "outputs": [],
   "source": []
  }
 ],
 "metadata": {
  "kernelspec": {
   "display_name": "Python 3",
   "language": "python",
   "name": "python3"
  },
  "language_info": {
   "codemirror_mode": {
    "name": "ipython",
    "version": 3
   },
   "file_extension": ".py",
   "mimetype": "text/x-python",
   "name": "python",
   "nbconvert_exporter": "python",
   "pygments_lexer": "ipython3",
   "version": "3.7.3"
  }
 },
 "nbformat": 4,
 "nbformat_minor": 2
}
