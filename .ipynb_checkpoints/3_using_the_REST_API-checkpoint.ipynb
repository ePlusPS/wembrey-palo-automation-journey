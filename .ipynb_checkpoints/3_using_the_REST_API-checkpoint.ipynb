{
 "cells": [
  {
   "cell_type": "markdown",
   "metadata": {},
   "source": [
    "# Working with the REST API"
   ]
  },
  {
   "cell_type": "markdown",
   "metadata": {},
   "source": [
    "What is REST API\n",
    "\n",
    "Just an API that uses HTTP methods (post, get etc.) The vendors talk about CRUD (create, read, update, delete)"
   ]
  },
  {
   "cell_type": "markdown",
   "metadata": {},
   "source": [
    "Let't start by looking at the doco on the firewall\n",
    "\n",
    "https://192.168.0.100/restapi-doc/\n"
   ]
  },
  {
   "cell_type": "markdown",
   "metadata": {},
   "source": [
    "We can see that to use the API, we need the key, which we get by sending a GET request to the old school XML api with type, user and password values.\n",
    "The resource location here is just /api appended onto the end of the firewall URL.\n",
    "\n",
    ">https://192.168.0.100/api/?type=keygen&user=admin&password=admin\n",
    "\n",
    "    \n",
    "And what we get back is the API key but in XML format.\n"
   ]
  },
  {
   "cell_type": "raw",
   "metadata": {},
   "source": [
    "<response status=\"success\">\n",
    "    <result>\n",
    "        <key>\n",
    "            LUFRPT03R3FCbGlubE1hbm5YVzdZRDdNTkVQQlkwQ2M9K0ZqSEl4UmZqbUUzdS9FczkxRU9QSDI0U2xZU2E2bTh0M1BUSEZHSGFLck5sL0hWb0NMOEZERHV6Sk5jRmI4Tw==\n",
    "        </key>\n",
    "    </result>\n",
    "</response>"
   ]
  },
  {
   "cell_type": "markdown",
   "metadata": {},
   "source": [
    "It also helps to look at the request in Postman, since this helps you build headers and even convert to cURL or python.\n",
    "                "
   ]
  },
  {
   "cell_type": "markdown",
   "metadata": {},
   "source": [
    "Skip over to Postman, create the API request with the parameters, hit \"code\" and select the Python Requests code (or cURL)."
   ]
  },
  {
   "cell_type": "code",
   "execution_count": null,
   "metadata": {},
   "outputs": [],
   "source": [
    "import requests\n",
    "\n",
    "url = \"https://192.168.0.100/api/\"\n",
    "\n",
    "querystring = {\"type\":\"keygen\",\"user\":\"admin\",\"password\":\"admin\"}\n",
    "\n",
    "headers = {\n",
    "    'cache-control': \"no-cache\",\n",
    "    'Postman-Token': \"57468758-8551-486b-8df5-9111476162bc\"\n",
    "    }\n",
    "\n",
    "response = requests.request(\"GET\", url, headers=headers, params=querystring)\n",
    "\n",
    "print(response.text)"
   ]
  },
  {
   "cell_type": "markdown",
   "metadata": {},
   "source": [
    "Our only issue here is that the cert is not trusted - so we google it and find out we need \"verify=False\" in the command string.\n",
    "\n",
    "Try again.\n"
   ]
  },
  {
   "cell_type": "code",
   "execution_count": null,
   "metadata": {},
   "outputs": [],
   "source": [
    "import requests\n",
    "\n",
    "url = \"https://192.168.0.100/api/\"\n",
    "\n",
    "querystring = {\"type\":\"keygen\",\"user\":\"admin\",\"password\":\"admin\"}\n",
    "\n",
    "headers = {\n",
    "    'cache-control': \"no-cache\",\n",
    "    'Postman-Token': \"57468758-8551-486b-8df5-9111476162bc\"\n",
    "    }\n",
    "\n",
    "response = requests.request(\"GET\", url, headers=headers, params=querystring, verify=False)\n",
    "\n",
    "print(response.text)"
   ]
  },
  {
   "cell_type": "markdown",
   "metadata": {},
   "source": [
    "Save the key - we need it.\n",
    "\n",
    "We can also boil down some of that waffle and just use the below."
   ]
  },
  {
   "cell_type": "code",
   "execution_count": null,
   "metadata": {},
   "outputs": [],
   "source": [
    "import requests\n",
    "url = \"https://192.168.0.100/api/\"\n",
    "querystring = {\"type\":\"keygen\",\"user\":\"admin\",\"password\":\"admin\"}\n",
    "response = requests.request(\"GET\", url, headers=headers, params=querystring, verify=False)\n",
    "print(response.text)"
   ]
  },
  {
   "cell_type": "markdown",
   "metadata": {},
   "source": [
    "The dreaded API key. Not very clear doco\n",
    "https://docs.paloaltonetworks.com/pan-os/9-0/pan-os-panorama-api/about-the-pan-os-xml-api/structure-of-a-pan-os-xml-api-request/api-authentication-and-security.html#\n",
    "    \n",
    "So you can add the header \"X-PAN-KEY\", add \"key\" as a query parameter, or just use basic auth (even though they say you need to enable the key!)\n",
    "\n",
    "It doesn't actually tell you what the key name for the API key is. I tried apikey until I saw an example on this page:\n",
    "https://docs.paloaltonetworks.com/pan-os/9-0/pan-os-panorama-api/get-started-with-the-pan-os-rest-api/work-with-address-objects-rest-api.html\n",
    "\n",
    "That's when I found out the query parater looks like  \n",
    ">/restapi/9.0/Objects/Tags?key=verylongkeyhere\n",
    "\n",
    "One more thing...  \n",
    "If you're using cURL to try this out, you'll probably end up needing to add \"--insecure\" to bypass the SSL issue of a non-trusted cert.\n"
   ]
  },
  {
   "cell_type": "markdown",
   "metadata": {},
   "source": [
    "OK, let's give it a run. We'll get the list of tags on the device. First time through, I stayed up past midnight trying to get the location correct. Turns out, you can look at your raw XML config from the the firewall and confirm where the tags live. Mine are under vsys1 so I need to add \"location\" \"vsys\" and \"vsys\" \"vsys1\" to the query parameters. I was getting a 400 error when trying to use \"location\" \"shared\"  \n",
    ">curl --insecure -X GET \\\n",
    "  'https://192.168.0.100/restapi/9.0/Objects/Tags?location=vsys&vsys=vsys1&key=LUFRPT12azVsU1RTamNVYkF0SnFyOHJTVFgzTlFONEE9K0ZqSEl4UmZqbUUzdS9FczkxRU9QSlhiWi9FU2FIRE1oYlNGTzUrU3FBTEl0VEZGeFBGWU10Q29ibXF4S05mMA=='\n",
    "\n"
   ]
  },
  {
   "cell_type": "markdown",
   "metadata": {},
   "source": [
    "Here are the fields from Postman, rather than cURL.\n",
    "\n",
    ">https://192.168.0.100/restapi/9.0/Objects/Tags?location=vsys&vsys=vsys1&key=blahblahblah\n"
   ]
  },
  {
   "cell_type": "markdown",
   "metadata": {},
   "source": [
    "And the result:\n",
    ">{\"@status\":\"success\",\"@code\":\"19\",\"result\":{\"@total-count\":\"4\",\"@count\":\"4\",\"entry\":[{\"@name\":\"tag1\",\"@location\":\"vsys\",\"@vsys\":\"vsys1\"},{\"@name\":\"tag2\",\"@location\":\"vsys\",\"@vsys\":\"vsys1\"},{\"@name\":\"Block\",\"@location\":\"vsys\",\"@vsys\":\"vsys1\",\"color\":\"color14\"},{\"@name\":\"production\",\"@location\":\"vsys\",\"@vsys\":\"vsys1\",\"color\":\"color1\",\"comments\":\"Test Tag\"}]}}  \n",
    "\n"
   ]
  },
  {
   "cell_type": "raw",
   "metadata": {},
   "source": [
    "Great - but in a browser it's hard to read. In proper indented JSON format from Postman, you can see what's what.  \n",
    "\n",
    "{\n",
    "    \"@status\": \"success\",\n",
    "    \"@code\": \"19\",\n",
    "    \"result\": {\n",
    "        \"@total-count\": \"4\",\n",
    "        \"@count\": \"4\",\n",
    "        \"entry\": [\n",
    "            {\n",
    "                \"@name\": \"tag1\",\n",
    "                \"@location\": \"vsys\",\n",
    "                \"@vsys\": \"vsys1\"\n",
    "            },\n",
    "            {\n",
    "                \"@name\": \"tag2\",\n",
    "                \"@location\": \"vsys\",\n",
    "                \"@vsys\": \"vsys1\"\n",
    "            },\n",
    "            {\n",
    "                \"@name\": \"Block\",\n",
    "                \"@location\": \"vsys\",\n",
    "                \"@vsys\": \"vsys1\",\n",
    "                \"color\": \"color14\"\n",
    "            },\n",
    "            {\n",
    "                \"@name\": \"production\",\n",
    "                \"@location\": \"vsys\",\n",
    "                \"@vsys\": \"vsys1\",\n",
    "                \"color\": \"color1\",\n",
    "                \"comments\": \"Test Tag\"\n",
    "            }\n",
    "        ]\n",
    "    }\n",
    "}"
   ]
  },
  {
   "cell_type": "markdown",
   "metadata": {},
   "source": [
    "OK - now head over to Postman to look at the request to add a tag."
   ]
  },
  {
   "cell_type": "raw",
   "metadata": {},
   "source": [
    "You can copy and paste the selection from the firewall restapi-doc page and paste into Postman request body as raw JSON.\n",
    "\n",
    "{\n",
    "\"entry\": {\n",
    "\"@name\": \"production\",\n",
    "\"color\": \"color1\",\n",
    "\"comments\": \"Test Tag\"\n",
    "}\n",
    "}\n",
    "\n",
    "In this case, as it's the C of CRUD, we'll use POST to add an item.\n",
    "\n",
    "https://192.168.0.100/restapi/9.0/Objects/Tags?name=production&location=vsys&vsys=vsys1\n"
   ]
  },
  {
   "cell_type": "raw",
   "metadata": {},
   "source": [
    "And if it works:\n",
    "    \n",
    "{\n",
    "    \"@status\": \"success\",\n",
    "    \"@code\": \"20\",\n",
    "    \"msg\": \"command succeeded\"\n",
    "}"
   ]
  },
  {
   "cell_type": "code",
   "execution_count": null,
   "metadata": {},
   "outputs": [],
   "source": [
    "So let's put it all together with a demo script.\n",
    "\n"
   ]
  }
 ],
 "metadata": {
  "kernelspec": {
   "display_name": "Python 3",
   "language": "python",
   "name": "python3"
  },
  "language_info": {
   "codemirror_mode": {
    "name": "ipython",
    "version": 3
   },
   "file_extension": ".py",
   "mimetype": "text/x-python",
   "name": "python",
   "nbconvert_exporter": "python",
   "pygments_lexer": "ipython3",
   "version": "3.7.3"
  }
 },
 "nbformat": 4,
 "nbformat_minor": 2
}
