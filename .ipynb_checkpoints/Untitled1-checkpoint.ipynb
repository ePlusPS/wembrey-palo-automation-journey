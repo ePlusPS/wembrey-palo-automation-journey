{
 "cells": [
  {
   "cell_type": "markdown",
   "metadata": {},
   "source": [
    "# Introduction  \n",
    "\n",
    "This presentation is not a python how-to or an automation class. It's just a description on how I've gone from \"no-way\" to \"ok\" at automation in a few months. It should be helpful to you if you are interested in automation but looking for some working exampes for a quicker on-ramp.\n",
    "\n",
    "None of the code is held up as original or best practice, it's just what has worked for me.\n",
    "\n",
    "Additionally, I'm giving this presentation because without the previous hard work and documentation of those who have done this before me, I would not have been able to do this. Specifically, the python modules by Kevin Steves and the Palo Alto team still form the backbone of a lot of this. Therefore I thought it was important to pass some of it on.\n",
    "\n",
    "[1 Start here](1_Start_here.ipynb)"
   ]
  }
 ],
 "metadata": {
  "kernelspec": {
   "display_name": "Python 3",
   "language": "python",
   "name": "python3"
  },
  "language_info": {
   "codemirror_mode": {
    "name": "ipython",
    "version": 3
   },
   "file_extension": ".py",
   "mimetype": "text/x-python",
   "name": "python",
   "nbconvert_exporter": "python",
   "pygments_lexer": "ipython3",
   "version": "3.7.3"
  }
 },
 "nbformat": 4,
 "nbformat_minor": 2
}
